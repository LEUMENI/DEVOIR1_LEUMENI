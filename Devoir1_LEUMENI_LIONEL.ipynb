{
 "cells": [
  {
   "cell_type": "code",
   "execution_count": 1,
   "id": "35420df5",
   "metadata": {},
   "outputs": [
    {
     "name": "stdout",
     "output_type": "stream",
     "text": [
      "Requirement already satisfied: pyAesCrypt in c:\\users\\lionel leumeni\\anaconda3\\lib\\site-packages (6.0.0)\n",
      "Requirement already satisfied: cryptography in c:\\users\\lionel leumeni\\anaconda3\\lib\\site-packages (from pyAesCrypt) (37.0.1)\n",
      "Requirement already satisfied: cffi>=1.12 in c:\\users\\lionel leumeni\\anaconda3\\lib\\site-packages (from cryptography->pyAesCrypt) (1.15.1)\n",
      "Requirement already satisfied: pycparser in c:\\users\\lionel leumeni\\anaconda3\\lib\\site-packages (from cffi>=1.12->cryptography->pyAesCrypt) (2.21)\n",
      "Note: you may need to restart the kernel to use updated packages.\n"
     ]
    }
   ],
   "source": [
    "pip install pyAesCrypt"
   ]
  },
  {
   "cell_type": "code",
   "execution_count": null,
   "id": "1f345f8c",
   "metadata": {},
   "outputs": [],
   "source": [
    "import os\n",
    "import pyAesCrypt\n",
    "import getpass\n",
    "\n",
    "def crypter_dossier(dossier_source, mot_de_passe):\n",
    "    # Nom du fichier crypté\n",
    "    nom_archive = dossier_source + '.aes'\n",
    "\n",
    "    # Cryptage du dossier source dans le fichier crypté\n",
    "    pyAesCrypt.encryptDirectory(dossier_source, nom_archive, mot_de_passe)\n",
    "\n",
    "    return nom_archive\n",
    "\n",
    "# Demande du dossier à protéger\n",
    "dossier_a_proteger = input(\"Entrez le chemin du dossier à protéger : \")\n",
    "\n",
    "# Demande du mot de passe\n",
    "mot_de_passe = getpass.getpass(\"Entrez le mot de passe : \")\n",
    "\n",
    "# Cryptage du dossier\n",
    "dossier_crypte = crypter_dossier(dossier_a_proteger, mot_de_passe)\n",
    "print(\"Le dossier a été crypté avec succès.\")\n",
    "print(\"Le fichier crypté est :\", dossier_crypte)\n",
    "#crypter_dossier(os.chdir(\"C:/Users/lionel leumeni/Desktop/devoir\"), lionel)"
   ]
  }
 ],
 "metadata": {
  "kernelspec": {
   "display_name": "Python 3 (ipykernel)",
   "language": "python",
   "name": "python3"
  },
  "language_info": {
   "codemirror_mode": {
    "name": "ipython",
    "version": 3
   },
   "file_extension": ".py",
   "mimetype": "text/x-python",
   "name": "python",
   "nbconvert_exporter": "python",
   "pygments_lexer": "ipython3",
   "version": "3.9.13"
  }
 },
 "nbformat": 4,
 "nbformat_minor": 5
}
